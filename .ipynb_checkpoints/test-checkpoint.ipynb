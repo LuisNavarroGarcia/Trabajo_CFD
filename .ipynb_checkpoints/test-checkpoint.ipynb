{
 "cells": [
  {
   "cell_type": "code",
   "execution_count": 6,
   "id": "2b8984ab",
   "metadata": {},
   "outputs": [],
   "source": [
    "import numpy as np\n",
    "from time import time\n",
    "from mesh import Mesh"
   ]
  },
  {
   "cell_type": "code",
   "execution_count": null,
   "id": "76f844e7",
   "metadata": {},
   "outputs": [],
   "source": [
    "class Malla():\n",
    "\n",
    "    def __init__(self, num_cells):\n",
    "        \n",
    "        #load cell data\n",
    "        self.cells = np.loadtxt('cells_{}.dat'.format(num_cells)) \n",
    "        # load node data\n",
    "        self.Rn = np.loadtxt('nodes_{}.dat'.format(num_cells))\n",
    "        \n",
    "    def preprocess(self):\n",
    "        \n",
    "        # initialize arrays\n",
    "        self.V = np.zeros(len(self.cells))\n",
    "        self.neighbours = np.zeros((len(self.cells), 3))\n",
    "        self.areas = np.zeros((len(self.cells), 3))\n",
    "        self.normals = np.zeros((len(self.cells), 3, 2))\n",
    "        self.Rc = np.zeros((len(self.cells), 2))\n",
    "        self.faces = np.zeros((len(self.cells), 3, 2))\n",
    "\n",
    "        # calculations\n",
    "        for i in range(len(self.cells)):\n",
    "          \n",
    "            # Get indexes of points that define each cell\n",
    "            indexes = self.cells[i] \n",
    "\n",
    "            # Get point that form a cell\n",
    "            point1 = self.Rn[int(indexes[0])-1] \n",
    "            point2 = self.Rn[int(indexes[1])-1] \n",
    "            point3 = self.Rn[int(indexes[2])-1]\n",
    "\n",
    "            # Calculate sides\n",
    "            delta12 = np.subtract(point2,point1)\n",
    "            delta23 = np.subtract(point3,point2)\n",
    "            delta31 = np.subtract(point1,point3)\n",
    "\n",
    "            # calculate faces\n",
    "            face1 = np.add(point1, delta12/2)\n",
    "            face2 = np.add(point2, delta23/2)\n",
    "            face3 = np.add(point3, delta31/2)\n",
    "\n",
    "            # construct array of faces\n",
    "            self.faces[i] = np.array([face1, face2, face3])\n",
    "\n",
    "            # calculate length of sides (areas)\n",
    "            area1 = np.linalg.norm(delta12)\n",
    "            area2 = np.linalg.norm(delta23) \n",
    "            area3 = np.linalg.norm(delta31)\n",
    "\n",
    "            # construct array of areas\n",
    "            self.areas[i] = np.array([area1, area2, area3])\n",
    "\n",
    "            # construct array of volumes\n",
    "            self.V[i] = np.array((1/2)*np.linalg.norm(np.cross(delta12, delta23)))\n",
    "\n",
    "             # construct array of centroids\n",
    "            self.Rc[i] =  np.array([(point1[0]+point2[0]+point2[0])/3,\n",
    "                        (point1[1]+point2[1]+point2[1])/3])\n",
    "            \n",
    "            # calculate external normal vectors\n",
    "\n",
    "            #normal for first face\n",
    "            dx1 = delta12[0]\n",
    "            dy1 = delta12[1]\n",
    "            N1 = np.array([-dy1, dx1])/area1\n",
    "            \n",
    "            # check if it's not external, and recalculate if it's not\n",
    "            if np.cross(delta12, N1) < 0:\n",
    "                N1 = np.array([dy1, -dx1])/area1\n",
    "            \n",
    "            #normal for second face\n",
    "            dx2 = delta23[0]\n",
    "            dy2 = delta23[1]\n",
    "            N2 = np.array([-dy2, dx2])/area2\n",
    "            \n",
    "            # check if it's not external, and recalculate if it's not\n",
    "            if np.cross(delta12, N2) < 0:\n",
    "                N2 = np.array([dy2, -dx2])/area2\n",
    "            \n",
    "            #normal for third face\n",
    "            dx3 = delta31[0]\n",
    "            dy3 = delta31[1]         \n",
    "            N3 = np.array([-dy3, dx3])/area3\n",
    "            \n",
    "            # check if it's not external, and recalculate if it's not\n",
    "            if np.cross(delta12, N3) < 0:\n",
    "                N3 = np.array([dy3, -dx3])/area3\n",
    "\n",
    "            # construct array of normals\n",
    "            self.normals[i] = np.array([N1, N2, N3])\n",
    "            \n",
    "            neighbours = np.array([])\n",
    "            \n",
    "            for j in range(len(self.cells)):\n",
    "    \n",
    "                if j != i:\n",
    "        \n",
    "                    num_coincidences = 0\n",
    "        \n",
    "                    for cell in self.cells[j]:\n",
    "            \n",
    "                        if cell in self.cells[i]:\n",
    "                            num_coincidences += 1\n",
    "                \n",
    "                    if num_coincidences >= 2:\n",
    "                        neighbours = np.append(neighbours, j)\n",
    "                        \n",
    "            for _ in range(3 - len(neighbours)):\n",
    "                neighbours = np.append(neighbours, -1)\n",
    "                \n",
    "            self.neighbours[i] = neighbours"
   ]
  },
  {
   "cell_type": "code",
   "execution_count": null,
   "id": "ace5cedf",
   "metadata": {},
   "outputs": [],
   "source": [
    "t1 = time()\n",
    "num_cells = 1024\n",
    "malla = Malla(num_cells)\n",
    "malla.preprocess()\n",
    "t2 = time()\n",
    "print(f'Function executed in {(t2-t1):.4f}s')"
   ]
  },
  {
   "cell_type": "code",
   "execution_count": 2,
   "id": "c8796519",
   "metadata": {},
   "outputs": [],
   "source": [
    "num_cells = 4\n",
    "malla = Mesh(num_cells)"
   ]
  },
  {
   "cell_type": "code",
   "execution_count": 3,
   "id": "9a660954",
   "metadata": {},
   "outputs": [
    {
     "data": {
      "text/plain": [
       "[array([1., 2.]), array([5., 6.]), array([1., 3., 5.]), array([2., 4., 6.])]"
      ]
     },
     "execution_count": 3,
     "metadata": {},
     "output_type": "execute_result"
    }
   ],
   "source": [
    "malla.bc"
   ]
  },
  {
   "cell_type": "code",
   "execution_count": 4,
   "id": "e7f740f2",
   "metadata": {},
   "outputs": [],
   "source": [
    "malla.preprocess()"
   ]
  },
  {
   "cell_type": "code",
   "execution_count": 5,
   "id": "c39e4c9f",
   "metadata": {},
   "outputs": [
    {
     "data": {
      "text/plain": [
       "array([[ 2., -3.,  1.],\n",
       "       [-1., -4.,  0.],\n",
       "       [ 0., -4.,  3.],\n",
       "       [-3.,  2., -2.]])"
      ]
     },
     "execution_count": 5,
     "metadata": {},
     "output_type": "execute_result"
    }
   ],
   "source": [
    "malla.neighbours"
   ]
  },
  {
   "cell_type": "code",
   "execution_count": 6,
   "id": "20c15b03",
   "metadata": {},
   "outputs": [
    {
     "data": {
      "text/plain": [
       "array([[4., 3., 1.],\n",
       "       [1., 2., 4.],\n",
       "       [3., 4., 6.],\n",
       "       [5., 3., 6.]])"
      ]
     },
     "execution_count": 6,
     "metadata": {},
     "output_type": "execute_result"
    }
   ],
   "source": [
    "malla.cells"
   ]
  },
  {
   "cell_type": "code",
   "execution_count": null,
   "id": "f2a217a2",
   "metadata": {},
   "outputs": [],
   "source": [
    "malla.faces"
   ]
  },
  {
   "cell_type": "code",
   "execution_count": null,
   "id": "fa2f3f22",
   "metadata": {},
   "outputs": [],
   "source": [
    "a = malla.cells[0]"
   ]
  },
  {
   "cell_type": "code",
   "execution_count": null,
   "id": "64d4049c",
   "metadata": {},
   "outputs": [],
   "source": [
    "a = np.full(3, None)\n",
    "a[0] = 1\n",
    "a"
   ]
  },
  {
   "cell_type": "code",
   "execution_count": null,
   "id": "3642cbc4",
   "metadata": {},
   "outputs": [],
   "source": [
    "a == None"
   ]
  },
  {
   "cell_type": "code",
   "execution_count": null,
   "id": "9098654f",
   "metadata": {},
   "outputs": [],
   "source": [
    "idxs = np.array([], dtype = np.int32)\n",
    "for idx, boolean in enumerate(a == None):\n",
    "    if boolean == True:\n",
    "        idxs = np.append(idxs, idx)\n",
    "print(idxs)"
   ]
  },
  {
   "cell_type": "code",
   "execution_count": null,
   "id": "77358033",
   "metadata": {},
   "outputs": [],
   "source": [
    "a = np.delete(a, idxs)"
   ]
  },
  {
   "cell_type": "code",
   "execution_count": null,
   "id": "2cc6502b",
   "metadata": {},
   "outputs": [],
   "source": [
    "a"
   ]
  },
  {
   "cell_type": "code",
   "execution_count": null,
   "id": "6d9a42bc",
   "metadata": {},
   "outputs": [],
   "source": [
    "np.where(a == 4)"
   ]
  },
  {
   "cell_type": "code",
   "execution_count": null,
   "id": "81343b16",
   "metadata": {},
   "outputs": [],
   "source": [
    "idx = np.where(a == 4)[0]\n",
    "if idx == 0:\n",
    "    print('h')"
   ]
  }
 ],
 "metadata": {
  "kernelspec": {
   "display_name": "Python 3 (ipykernel)",
   "language": "python",
   "name": "python3"
  },
  "language_info": {
   "codemirror_mode": {
    "name": "ipython",
    "version": 3
   },
   "file_extension": ".py",
   "mimetype": "text/x-python",
   "name": "python",
   "nbconvert_exporter": "python",
   "pygments_lexer": "ipython3",
   "version": "3.10.4"
  }
 },
 "nbformat": 4,
 "nbformat_minor": 5
}
