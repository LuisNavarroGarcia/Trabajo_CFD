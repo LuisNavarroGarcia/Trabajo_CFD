{
 "cells": [
  {
   "cell_type": "code",
   "execution_count": null,
   "id": "2b8984ab",
   "metadata": {},
   "outputs": [],
   "source": [
    "import numpy as np\n",
    "from time import time\n",
    "from mesh import Mesh\n",
    "from sim_config import SimConfig"
   ]
  },
  {
   "cell_type": "code",
   "execution_count": null,
   "id": "76f844e7",
   "metadata": {},
   "outputs": [],
   "source": [
    "class Malla():\n",
    "\n",
    "    def __init__(self, num_cells):\n",
    "        \n",
    "        #load cell data\n",
    "        self.cells = np.loadtxt('cells_{}.dat'.format(num_cells)) \n",
    "        # load node data\n",
    "        self.Rn = np.loadtxt('nodes_{}.dat'.format(num_cells))\n",
    "        \n",
    "    def preprocess(self):\n",
    "        \n",
    "        # initialize arrays\n",
    "        self.V = np.zeros(len(self.cells))\n",
    "        self.neighbours = np.zeros((len(self.cells), 3))\n",
    "        self.areas = np.zeros((len(self.cells), 3))\n",
    "        self.normals = np.zeros((len(self.cells), 3, 2))\n",
    "        self.Rc = np.zeros((len(self.cells), 2))\n",
    "        self.faces = np.zeros((len(self.cells), 3, 2))\n",
    "\n",
    "        # calculations\n",
    "        for i in range(len(self.cells)):\n",
    "          \n",
    "            # Get indexes of points that define each cell\n",
    "            indexes = self.cells[i] \n",
    "\n",
    "            # Get point that form a cell\n",
    "            point1 = self.Rn[int(indexes[0])-1] \n",
    "            point2 = self.Rn[int(indexes[1])-1] \n",
    "            point3 = self.Rn[int(indexes[2])-1]\n",
    "\n",
    "            # Calculate sides\n",
    "            delta12 = np.subtract(point2,point1)\n",
    "            delta23 = np.subtract(point3,point2)\n",
    "            delta31 = np.subtract(point1,point3)\n",
    "\n",
    "            # calculate faces\n",
    "            face1 = np.add(point1, delta12/2)\n",
    "            face2 = np.add(point2, delta23/2)\n",
    "            face3 = np.add(point3, delta31/2)\n",
    "\n",
    "            # construct array of faces\n",
    "            self.faces[i] = np.array([face1, face2, face3])\n",
    "\n",
    "            # calculate length of sides (areas)\n",
    "            area1 = np.linalg.norm(delta12)\n",
    "            area2 = np.linalg.norm(delta23) \n",
    "            area3 = np.linalg.norm(delta31)\n",
    "\n",
    "            # construct array of areas\n",
    "            self.areas[i] = np.array([area1, area2, area3])\n",
    "\n",
    "            # construct array of volumes\n",
    "            self.V[i] = np.array((1/2)*np.linalg.norm(np.cross(delta12, delta23)))\n",
    "\n",
    "             # construct array of centroids\n",
    "            self.Rc[i] =  np.array([(point1[0]+point2[0]+point2[0])/3,\n",
    "                        (point1[1]+point2[1]+point2[1])/3])\n",
    "            \n",
    "            # calculate external normal vectors\n",
    "\n",
    "            #normal for first face\n",
    "            dx1 = delta12[0]\n",
    "            dy1 = delta12[1]\n",
    "            N1 = np.array([-dy1, dx1])/area1\n",
    "            \n",
    "            # check if it's not external, and recalculate if it's not\n",
    "            if np.cross(delta12, N1) < 0:\n",
    "                N1 = np.array([dy1, -dx1])/area1\n",
    "            \n",
    "            #normal for second face\n",
    "            dx2 = delta23[0]\n",
    "            dy2 = delta23[1]\n",
    "            N2 = np.array([-dy2, dx2])/area2\n",
    "            \n",
    "            # check if it's not external, and recalculate if it's not\n",
    "            if np.cross(delta12, N2) < 0:\n",
    "                N2 = np.array([dy2, -dx2])/area2\n",
    "            \n",
    "            #normal for third face\n",
    "            dx3 = delta31[0]\n",
    "            dy3 = delta31[1]         \n",
    "            N3 = np.array([-dy3, dx3])/area3\n",
    "            \n",
    "            # check if it's not external, and recalculate if it's not\n",
    "            if np.cross(delta12, N3) < 0:\n",
    "                N3 = np.array([dy3, -dx3])/area3\n",
    "\n",
    "            # construct array of normals\n",
    "            self.normals[i] = np.array([N1, N2, N3])\n",
    "            \n",
    "            neighbours = np.array([])\n",
    "            \n",
    "            for j in range(len(self.cells)):\n",
    "    \n",
    "                if j != i:\n",
    "        \n",
    "                    num_coincidences = 0\n",
    "        \n",
    "                    for cell in self.cells[j]:\n",
    "            \n",
    "                        if cell in self.cells[i]:\n",
    "                            num_coincidences += 1\n",
    "                \n",
    "                    if num_coincidences >= 2:\n",
    "                        neighbours = np.append(neighbours, j)\n",
    "                        \n",
    "            for _ in range(3 - len(neighbours)):\n",
    "                neighbours = np.append(neighbours, -1)\n",
    "                \n",
    "            self.neighbours[i] = neighbours"
   ]
  },
  {
   "cell_type": "code",
   "execution_count": null,
   "id": "64d4049c",
   "metadata": {},
   "outputs": [],
   "source": [
    "a = np.full(3, None)\n",
    "a[0] = 1\n",
    "a"
   ]
  },
  {
   "cell_type": "code",
   "execution_count": null,
   "id": "3642cbc4",
   "metadata": {},
   "outputs": [],
   "source": [
    "a == None"
   ]
  },
  {
   "cell_type": "code",
   "execution_count": null,
   "id": "bde5911d",
   "metadata": {},
   "outputs": [],
   "source": [
    "try:\n",
    "    print(dt.calc(1,2))\n",
    "except Exception:\n",
    "    print('Can\\'t work like that')"
   ]
  },
  {
   "cell_type": "code",
   "execution_count": null,
   "id": "29f8813c",
   "metadata": {},
   "outputs": [],
   "source": [
    "num_cells = 4\n",
    "mesh = Mesh(num_cells)\n",
    "mesh.preprocess()"
   ]
  },
  {
   "cell_type": "code",
   "execution_count": null,
   "id": "e7c7bfbd",
   "metadata": {},
   "outputs": [],
   "source": [
    "sim_config = SimConfig(courant = 10, t_final = 0.4)\n",
    "\n",
    "u = lambda x, y, t: np.full((len(x), 2), [0, 0])\n",
    "\n",
    "def courant(mesh, u, sim_config):\n",
    "\n",
    "    m, n = np.shape(mesh.cells)\n",
    "    DeltaX_min = 100\n",
    "    \n",
    "    for i in range(m):\n",
    "        xs = np.array([])\n",
    "        ys = np.array([])\n",
    "\n",
    "        for j in range(n):\n",
    "            xs = np.append(xs, mesh.Rn[mesh.cells[i, j]-1][0])\n",
    "            ys = np.append(ys, mesh.Rn[mesh.cells[i, j]-1][1])\n",
    "\n",
    "    dxs = np.array([xs[0] - xs[1], xs[0] - xs[2], xs[2] - xs[1]])\n",
    "    dys = np.array([ys[0] - ys[1], ys[0] - ys[2], ys[2] - ys[1]])\n",
    "    dist = np.sqrt(dxs**2 + dys**2)\n",
    "    min_actual = min(dist)\n",
    "    DeltaX_min = min(min_actual, DeltaX_min)\n",
    "\n",
    "    # Max. Velocity. Sampling all the function is needed\n",
    "    eigenvalue = np.max(u(np.linspace(min(mesh.Rn[:, 0]), max(mesh.Rn[:, 0]), 20), \\\n",
    "    np.linspace(min(mesh.Rn[:, 1]), max(mesh.Rn[:, 1]), 20), \\\n",
    "    np. linspace(0, sim_config.tfinal, 20)))\n",
    "                \n",
    "\n",
    "    # Applying Courant's stability condition\n",
    "    C = sim_config.courant\n",
    "    dt_courant = C * (DeltaX_min / eigenvalue)\n",
    "      \n",
    "    return dt_courant"
   ]
  },
  {
   "cell_type": "code",
   "execution_count": null,
   "id": "d7cefcb7",
   "metadata": {
    "scrolled": true
   },
   "outputs": [],
   "source": [
    "courant(mesh, u, sim_config)"
   ]
  },
  {
   "cell_type": "code",
   "execution_count": null,
   "id": "f2276365",
   "metadata": {},
   "outputs": [],
   "source": [
    "x = np.linspace(min(mesh.Rn[:, 0]), max(mesh.Rn[:, 0]), 20)\n",
    "y = np.linspace(min(mesh.Rn[:, 1]), max(mesh.Rn[:, 1]), 20)\n",
    "t = np. linspace(0, sim_config.tfinal, 20)"
   ]
  },
  {
   "cell_type": "code",
   "execution_count": null,
   "id": "b6c64d14",
   "metadata": {},
   "outputs": [],
   "source": [
    "x"
   ]
  },
  {
   "cell_type": "code",
   "execution_count": null,
   "id": "bc0f7da9",
   "metadata": {},
   "outputs": [],
   "source": [
    "max(u(x, y, t))"
   ]
  },
  {
   "cell_type": "code",
   "execution_count": null,
   "id": "8a817741",
   "metadata": {},
   "outputs": [],
   "source": [
    "np.linspace(min(mesh.Rn[:, 0]), max(mesh.Rn[:, 0]), 21)"
   ]
  },
  {
   "cell_type": "code",
   "execution_count": null,
   "id": "2b1bce94",
   "metadata": {},
   "outputs": [],
   "source": [
    "np.full((4, 2), [0, 0.])"
   ]
  },
  {
   "cell_type": "code",
   "execution_count": null,
   "id": "8dc0be11",
   "metadata": {},
   "outputs": [],
   "source": []
  }
 ],
 "metadata": {
  "kernelspec": {
   "display_name": "Python 3 (ipykernel)",
   "language": "python",
   "name": "python3"
  },
  "language_info": {
   "codemirror_mode": {
    "name": "ipython",
    "version": 3
   },
   "file_extension": ".py",
   "mimetype": "text/x-python",
   "name": "python",
   "nbconvert_exporter": "python",
   "pygments_lexer": "ipython3",
   "version": "3.10.4"
  }
 },
 "nbformat": 4,
 "nbformat_minor": 5
}
